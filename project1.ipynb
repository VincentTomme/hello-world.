{
 "cells": [
  {
   "cell_type": "markdown",
   "metadata": {},
   "source": [
    "### Applied Data Science: Machine Learning\n",
    "#### Introduction to data analysis with Python  \n",
    "#### Project 1: World Happiness Report  \n",
    "\n",
    "*Vincent Tomme*  \n",
    "*Madrid - December 2020*  \n",
    "*Data source: data.csv - World Happiness Report 2017 from Gallup World Poll*"
   ]
  },
  {
   "cell_type": "markdown",
   "metadata": {},
   "source": [
    "#### A. Importing, cleaning and numerical summaries"
   ]
  },
  {
   "cell_type": "code",
   "execution_count": 1,
   "metadata": {},
   "outputs": [],
   "source": [
    "# Import the panda library used in all sections\n",
    "import pandas as pd\n",
    "\n",
    "# Import the matplotlib (module pyplot) to draw the bar charts of sections C and D\n",
    "import matplotlib.pyplot as plt\n",
    "%matplotlib inline\n",
    "\n",
    "# Import the seaborn library for the paired scatter plots of section E\n",
    "import seaborn as sns\n",
    "\n",
    "# Import the numpy library for the H section\n",
    "import numpy as np"
   ]
  },
  {
   "cell_type": "markdown",
   "metadata": {},
   "source": [
    "**1. Download the data set data.csv from the Resources tab and move the file to the current working directory**"
   ]
  },
  {
   "cell_type": "markdown",
   "metadata": {},
   "source": [
    "**2. Import the data as a pandas DataFrame**"
   ]
  },
  {
   "cell_type": "code",
   "execution_count": 2,
   "metadata": {},
   "outputs": [],
   "source": [
    "# read the csv data file located in the cwd and store it in a dataframe \"df\"\n",
    "df = pd.read_csv('data.csv')"
   ]
  },
  {
   "cell_type": "markdown",
   "metadata": {},
   "source": [
    "**3. Check the number of observations**"
   ]
  },
  {
   "cell_type": "code",
   "execution_count": 3,
   "metadata": {},
   "outputs": [
    {
     "data": {
      "text/plain": [
       "1836"
      ]
     },
     "execution_count": 3,
     "metadata": {},
     "output_type": "execute_result"
    }
   ],
   "source": [
    "# Print the number of elements of the dataframe:\n",
    "df.size"
   ]
  },
  {
   "cell_type": "markdown",
   "metadata": {},
   "source": [
    "**4. Obtain the column headings**"
   ]
  },
  {
   "cell_type": "code",
   "execution_count": 4,
   "metadata": {},
   "outputs": [
    {
     "data": {
      "text/plain": [
       "Index(['Country', 'Happiness Rank', 'Happiness Score', 'Economy', 'Family',\n",
       "       'Health', 'Freedom', 'Generosity', 'Corruption', 'Dystopia',\n",
       "       'Job Satisfaction', 'Region'],\n",
       "      dtype='object')"
      ]
     },
     "execution_count": 4,
     "metadata": {},
     "output_type": "execute_result"
    }
   ],
   "source": [
    "# Print the columns headings\n",
    "df.columns"
   ]
  },
  {
   "cell_type": "markdown",
   "metadata": {},
   "source": [
    "**5. Check the data type for each column**"
   ]
  },
  {
   "cell_type": "code",
   "execution_count": 5,
   "metadata": {},
   "outputs": [
    {
     "data": {
      "text/plain": [
       "Country              object\n",
       "Happiness Rank        int64\n",
       "Happiness Score     float64\n",
       "Economy             float64\n",
       "Family              float64\n",
       "Health              float64\n",
       "Freedom             float64\n",
       "Generosity          float64\n",
       "Corruption          float64\n",
       "Dystopia            float64\n",
       "Job Satisfaction    float64\n",
       "Region               object\n",
       "dtype: object"
      ]
     },
     "execution_count": 5,
     "metadata": {},
     "output_type": "execute_result"
    }
   ],
   "source": [
    "# Print the data types of each column\n",
    "df.dtypes"
   ]
  },
  {
   "cell_type": "markdown",
   "metadata": {},
   "source": [
    "**6. Check if there are any missing values**"
   ]
  },
  {
   "cell_type": "code",
   "execution_count": 6,
   "metadata": {},
   "outputs": [
    {
     "name": "stdout",
     "output_type": "stream",
     "text": [
      "<class 'pandas.core.frame.DataFrame'>\n",
      "RangeIndex: 153 entries, 0 to 152\n",
      "Data columns (total 12 columns):\n",
      " #   Column            Non-Null Count  Dtype  \n",
      "---  ------            --------------  -----  \n",
      " 0   Country           153 non-null    object \n",
      " 1   Happiness Rank    153 non-null    int64  \n",
      " 2   Happiness Score   153 non-null    float64\n",
      " 3   Economy           153 non-null    float64\n",
      " 4   Family            153 non-null    float64\n",
      " 5   Health            153 non-null    float64\n",
      " 6   Freedom           153 non-null    float64\n",
      " 7   Generosity        153 non-null    float64\n",
      " 8   Corruption        153 non-null    float64\n",
      " 9   Dystopia          153 non-null    float64\n",
      " 10  Job Satisfaction  151 non-null    float64\n",
      " 11  Region            153 non-null    object \n",
      "dtypes: float64(9), int64(1), object(2)\n",
      "memory usage: 14.5+ KB\n"
     ]
    }
   ],
   "source": [
    "# Print a summary of the dataframe\n",
    "df.info()"
   ]
  },
  {
   "cell_type": "markdown",
   "metadata": {},
   "source": [
    "We observe that the dataframe is made of 153 registers of 12 columns. 2 registers have an empty column (Job Satisfaction)."
   ]
  },
  {
   "cell_type": "markdown",
   "metadata": {},
   "source": [
    "**7. Remove any observations to ensure that there are no missing values**"
   ]
  },
  {
   "cell_type": "code",
   "execution_count": 7,
   "metadata": {},
   "outputs": [],
   "source": [
    "# Drop rows containing null values on the original dataframe\n",
    "df.dropna(inplace=True)"
   ]
  },
  {
   "cell_type": "code",
   "execution_count": 8,
   "metadata": {},
   "outputs": [
    {
     "data": {
      "text/html": [
       "<div>\n",
       "<style scoped>\n",
       "    .dataframe tbody tr th:only-of-type {\n",
       "        vertical-align: middle;\n",
       "    }\n",
       "\n",
       "    .dataframe tbody tr th {\n",
       "        vertical-align: top;\n",
       "    }\n",
       "\n",
       "    .dataframe thead th {\n",
       "        text-align: right;\n",
       "    }\n",
       "</style>\n",
       "<table border=\"1\" class=\"dataframe\">\n",
       "  <thead>\n",
       "    <tr style=\"text-align: right;\">\n",
       "      <th></th>\n",
       "      <th>Country</th>\n",
       "      <th>Happiness Rank</th>\n",
       "      <th>Happiness Score</th>\n",
       "      <th>Economy</th>\n",
       "      <th>Family</th>\n",
       "      <th>Health</th>\n",
       "      <th>Freedom</th>\n",
       "      <th>Generosity</th>\n",
       "      <th>Corruption</th>\n",
       "      <th>Dystopia</th>\n",
       "      <th>Job Satisfaction</th>\n",
       "      <th>Region</th>\n",
       "    </tr>\n",
       "  </thead>\n",
       "  <tbody>\n",
       "    <tr>\n",
       "      <th>22</th>\n",
       "      <td>Lesotho</td>\n",
       "      <td>139</td>\n",
       "      <td>3.808</td>\n",
       "      <td>0.521021</td>\n",
       "      <td>1.190095</td>\n",
       "      <td>0.000000</td>\n",
       "      <td>0.390661</td>\n",
       "      <td>0.157497</td>\n",
       "      <td>0.119095</td>\n",
       "      <td>1.429835</td>\n",
       "      <td>44.4</td>\n",
       "      <td>Africa</td>\n",
       "    </tr>\n",
       "    <tr>\n",
       "      <th>26</th>\n",
       "      <td>Angola</td>\n",
       "      <td>140</td>\n",
       "      <td>3.795</td>\n",
       "      <td>0.858428</td>\n",
       "      <td>1.104412</td>\n",
       "      <td>0.049869</td>\n",
       "      <td>0.000000</td>\n",
       "      <td>0.097926</td>\n",
       "      <td>0.069720</td>\n",
       "      <td>1.614482</td>\n",
       "      <td>71.1</td>\n",
       "      <td>Africa</td>\n",
       "    </tr>\n",
       "    <tr>\n",
       "      <th>57</th>\n",
       "      <td>Greece</td>\n",
       "      <td>87</td>\n",
       "      <td>5.227</td>\n",
       "      <td>1.289487</td>\n",
       "      <td>1.239415</td>\n",
       "      <td>0.810199</td>\n",
       "      <td>0.095731</td>\n",
       "      <td>0.000000</td>\n",
       "      <td>0.043290</td>\n",
       "      <td>1.749222</td>\n",
       "      <td>79.2</td>\n",
       "      <td>Eastern Europe</td>\n",
       "    </tr>\n",
       "    <tr>\n",
       "      <th>79</th>\n",
       "      <td>Central African Republic</td>\n",
       "      <td>155</td>\n",
       "      <td>2.693</td>\n",
       "      <td>0.000000</td>\n",
       "      <td>0.000000</td>\n",
       "      <td>0.018773</td>\n",
       "      <td>0.270842</td>\n",
       "      <td>0.280876</td>\n",
       "      <td>0.056565</td>\n",
       "      <td>2.066005</td>\n",
       "      <td>70.4</td>\n",
       "      <td>Africa</td>\n",
       "    </tr>\n",
       "    <tr>\n",
       "      <th>143</th>\n",
       "      <td>Bosnia and Herzegovina</td>\n",
       "      <td>90</td>\n",
       "      <td>5.182</td>\n",
       "      <td>0.982409</td>\n",
       "      <td>1.069336</td>\n",
       "      <td>0.705186</td>\n",
       "      <td>0.204403</td>\n",
       "      <td>0.328867</td>\n",
       "      <td>0.000000</td>\n",
       "      <td>1.892173</td>\n",
       "      <td>73.7</td>\n",
       "      <td>Eastern Europe</td>\n",
       "    </tr>\n",
       "  </tbody>\n",
       "</table>\n",
       "</div>"
      ],
      "text/plain": [
       "                      Country  Happiness Rank  Happiness Score   Economy  \\\n",
       "22                    Lesotho             139            3.808  0.521021   \n",
       "26                     Angola             140            3.795  0.858428   \n",
       "57                     Greece              87            5.227  1.289487   \n",
       "79   Central African Republic             155            2.693  0.000000   \n",
       "143    Bosnia and Herzegovina              90            5.182  0.982409   \n",
       "\n",
       "       Family    Health   Freedom  Generosity  Corruption  Dystopia  \\\n",
       "22   1.190095  0.000000  0.390661    0.157497    0.119095  1.429835   \n",
       "26   1.104412  0.049869  0.000000    0.097926    0.069720  1.614482   \n",
       "57   1.239415  0.810199  0.095731    0.000000    0.043290  1.749222   \n",
       "79   0.000000  0.018773  0.270842    0.280876    0.056565  2.066005   \n",
       "143  1.069336  0.705186  0.204403    0.328867    0.000000  1.892173   \n",
       "\n",
       "     Job Satisfaction          Region  \n",
       "22               44.4          Africa  \n",
       "26               71.1          Africa  \n",
       "57               79.2  Eastern Europe  \n",
       "79               70.4          Africa  \n",
       "143              73.7  Eastern Europe  "
      ]
     },
     "execution_count": 8,
     "metadata": {},
     "output_type": "execute_result"
    }
   ],
   "source": [
    "# Detect zero values in the numerical columns\n",
    "df[(df['Happiness Rank'] == 0) | (df['Happiness Score'] == 0.0) | (df['Economy'] == 0.0) | (df['Family'] == 0.0) | \n",
    "   (df['Health'] == 0.0) | (df['Freedom'] == 0.0) | (df['Generosity'] == 0.0) | (df['Corruption'] == 0.0) |\n",
    "   (df['Dystopia'] == 0.0) | (df['Job Satisfaction'] == 0.0)]"
   ]
  },
  {
   "cell_type": "markdown",
   "metadata": {},
   "source": [
    "We observe that 5 countries have zero values in at least one of the indicators. Nevertheless, at that point, we decide to keep these countries in the data frame."
   ]
  },
  {
   "cell_type": "markdown",
   "metadata": {},
   "source": [
    "**7.bis Ensure the values in each column are of the same data type**"
   ]
  },
  {
   "cell_type": "markdown",
   "metadata": {},
   "source": [
    "After analysis of the summary above (6.) , we conclude that there is no need of change. The columns have already the right data types."
   ]
  },
  {
   "cell_type": "markdown",
   "metadata": {},
   "source": [
    "**8. Obtain the mean, minimum and maximum value for each column containing numerical data**"
   ]
  },
  {
   "cell_type": "code",
   "execution_count": 9,
   "metadata": {},
   "outputs": [
    {
     "data": {
      "text/html": [
       "<div>\n",
       "<style scoped>\n",
       "    .dataframe tbody tr th:only-of-type {\n",
       "        vertical-align: middle;\n",
       "    }\n",
       "\n",
       "    .dataframe tbody tr th {\n",
       "        vertical-align: top;\n",
       "    }\n",
       "\n",
       "    .dataframe thead th {\n",
       "        text-align: right;\n",
       "    }\n",
       "</style>\n",
       "<table border=\"1\" class=\"dataframe\">\n",
       "  <thead>\n",
       "    <tr style=\"text-align: right;\">\n",
       "      <th></th>\n",
       "      <th>Happiness Rank</th>\n",
       "      <th>Happiness Score</th>\n",
       "      <th>Economy</th>\n",
       "      <th>Family</th>\n",
       "      <th>Health</th>\n",
       "      <th>Freedom</th>\n",
       "      <th>Generosity</th>\n",
       "      <th>Corruption</th>\n",
       "      <th>Dystopia</th>\n",
       "      <th>Job Satisfaction</th>\n",
       "    </tr>\n",
       "  </thead>\n",
       "  <tbody>\n",
       "    <tr>\n",
       "      <th>count</th>\n",
       "      <td>151.000000</td>\n",
       "      <td>151.000000</td>\n",
       "      <td>151.000000</td>\n",
       "      <td>151.000000</td>\n",
       "      <td>151.000000</td>\n",
       "      <td>151.000000</td>\n",
       "      <td>151.000000</td>\n",
       "      <td>151.000000</td>\n",
       "      <td>151.000000</td>\n",
       "      <td>151.000000</td>\n",
       "    </tr>\n",
       "    <tr>\n",
       "      <th>mean</th>\n",
       "      <td>77.827815</td>\n",
       "      <td>5.357874</td>\n",
       "      <td>0.983895</td>\n",
       "      <td>1.190509</td>\n",
       "      <td>0.550794</td>\n",
       "      <td>0.409805</td>\n",
       "      <td>0.244914</td>\n",
       "      <td>0.123008</td>\n",
       "      <td>1.854910</td>\n",
       "      <td>75.209934</td>\n",
       "    </tr>\n",
       "    <tr>\n",
       "      <th>std</th>\n",
       "      <td>44.934732</td>\n",
       "      <td>1.132826</td>\n",
       "      <td>0.420955</td>\n",
       "      <td>0.286371</td>\n",
       "      <td>0.236116</td>\n",
       "      <td>0.150144</td>\n",
       "      <td>0.135236</td>\n",
       "      <td>0.102776</td>\n",
       "      <td>0.502189</td>\n",
       "      <td>12.962365</td>\n",
       "    </tr>\n",
       "    <tr>\n",
       "      <th>min</th>\n",
       "      <td>1.000000</td>\n",
       "      <td>2.693000</td>\n",
       "      <td>0.000000</td>\n",
       "      <td>0.000000</td>\n",
       "      <td>0.000000</td>\n",
       "      <td>0.000000</td>\n",
       "      <td>0.000000</td>\n",
       "      <td>0.000000</td>\n",
       "      <td>0.377914</td>\n",
       "      <td>44.400000</td>\n",
       "    </tr>\n",
       "    <tr>\n",
       "      <th>25%</th>\n",
       "      <td>39.500000</td>\n",
       "      <td>4.505500</td>\n",
       "      <td>0.663371</td>\n",
       "      <td>1.042635</td>\n",
       "      <td>0.369866</td>\n",
       "      <td>0.303677</td>\n",
       "      <td>0.152574</td>\n",
       "      <td>0.056919</td>\n",
       "      <td>1.605148</td>\n",
       "      <td>68.950000</td>\n",
       "    </tr>\n",
       "    <tr>\n",
       "      <th>50%</th>\n",
       "      <td>78.000000</td>\n",
       "      <td>5.279000</td>\n",
       "      <td>1.064578</td>\n",
       "      <td>1.253918</td>\n",
       "      <td>0.606042</td>\n",
       "      <td>0.437454</td>\n",
       "      <td>0.230947</td>\n",
       "      <td>0.089283</td>\n",
       "      <td>1.832910</td>\n",
       "      <td>78.100000</td>\n",
       "    </tr>\n",
       "    <tr>\n",
       "      <th>75%</th>\n",
       "      <td>116.500000</td>\n",
       "      <td>6.101500</td>\n",
       "      <td>1.314879</td>\n",
       "      <td>1.418162</td>\n",
       "      <td>0.715975</td>\n",
       "      <td>0.519467</td>\n",
       "      <td>0.323762</td>\n",
       "      <td>0.152207</td>\n",
       "      <td>2.161605</td>\n",
       "      <td>85.100000</td>\n",
       "    </tr>\n",
       "    <tr>\n",
       "      <th>max</th>\n",
       "      <td>155.000000</td>\n",
       "      <td>7.537000</td>\n",
       "      <td>1.870766</td>\n",
       "      <td>1.610574</td>\n",
       "      <td>0.949492</td>\n",
       "      <td>0.658249</td>\n",
       "      <td>0.838075</td>\n",
       "      <td>0.464308</td>\n",
       "      <td>3.117485</td>\n",
       "      <td>95.100000</td>\n",
       "    </tr>\n",
       "  </tbody>\n",
       "</table>\n",
       "</div>"
      ],
      "text/plain": [
       "       Happiness Rank  Happiness Score     Economy      Family      Health  \\\n",
       "count      151.000000       151.000000  151.000000  151.000000  151.000000   \n",
       "mean        77.827815         5.357874    0.983895    1.190509    0.550794   \n",
       "std         44.934732         1.132826    0.420955    0.286371    0.236116   \n",
       "min          1.000000         2.693000    0.000000    0.000000    0.000000   \n",
       "25%         39.500000         4.505500    0.663371    1.042635    0.369866   \n",
       "50%         78.000000         5.279000    1.064578    1.253918    0.606042   \n",
       "75%        116.500000         6.101500    1.314879    1.418162    0.715975   \n",
       "max        155.000000         7.537000    1.870766    1.610574    0.949492   \n",
       "\n",
       "          Freedom  Generosity  Corruption    Dystopia  Job Satisfaction  \n",
       "count  151.000000  151.000000  151.000000  151.000000        151.000000  \n",
       "mean     0.409805    0.244914    0.123008    1.854910         75.209934  \n",
       "std      0.150144    0.135236    0.102776    0.502189         12.962365  \n",
       "min      0.000000    0.000000    0.000000    0.377914         44.400000  \n",
       "25%      0.303677    0.152574    0.056919    1.605148         68.950000  \n",
       "50%      0.437454    0.230947    0.089283    1.832910         78.100000  \n",
       "75%      0.519467    0.323762    0.152207    2.161605         85.100000  \n",
       "max      0.658249    0.838075    0.464308    3.117485         95.100000  "
      ]
     },
     "execution_count": 9,
     "metadata": {},
     "output_type": "execute_result"
    }
   ],
   "source": [
    "# Describe() method calculates general statistics for the numerical columns\n",
    "df.describe()"
   ]
  },
  {
   "cell_type": "markdown",
   "metadata": {},
   "source": [
    "**9. List the 10 happiest countries, ordered by their happiness score**"
   ]
  },
  {
   "cell_type": "code",
   "execution_count": 10,
   "metadata": {},
   "outputs": [
    {
     "data": {
      "text/html": [
       "<div>\n",
       "<style scoped>\n",
       "    .dataframe tbody tr th:only-of-type {\n",
       "        vertical-align: middle;\n",
       "    }\n",
       "\n",
       "    .dataframe tbody tr th {\n",
       "        vertical-align: top;\n",
       "    }\n",
       "\n",
       "    .dataframe thead th {\n",
       "        text-align: right;\n",
       "    }\n",
       "</style>\n",
       "<table border=\"1\" class=\"dataframe\">\n",
       "  <thead>\n",
       "    <tr style=\"text-align: right;\">\n",
       "      <th></th>\n",
       "      <th>Country</th>\n",
       "      <th>Happiness Rank</th>\n",
       "      <th>Happiness Score</th>\n",
       "      <th>Economy</th>\n",
       "      <th>Family</th>\n",
       "      <th>Health</th>\n",
       "      <th>Freedom</th>\n",
       "      <th>Generosity</th>\n",
       "      <th>Corruption</th>\n",
       "      <th>Dystopia</th>\n",
       "      <th>Job Satisfaction</th>\n",
       "      <th>Region</th>\n",
       "    </tr>\n",
       "  </thead>\n",
       "  <tbody>\n",
       "    <tr>\n",
       "      <th>109</th>\n",
       "      <td>Norway</td>\n",
       "      <td>1</td>\n",
       "      <td>7.537</td>\n",
       "      <td>1.616463</td>\n",
       "      <td>1.533524</td>\n",
       "      <td>0.796667</td>\n",
       "      <td>0.635423</td>\n",
       "      <td>0.362012</td>\n",
       "      <td>0.315964</td>\n",
       "      <td>2.277027</td>\n",
       "      <td>94.6</td>\n",
       "      <td>Western Europe</td>\n",
       "    </tr>\n",
       "    <tr>\n",
       "      <th>97</th>\n",
       "      <td>Denmark</td>\n",
       "      <td>2</td>\n",
       "      <td>7.522</td>\n",
       "      <td>1.482383</td>\n",
       "      <td>1.551122</td>\n",
       "      <td>0.792566</td>\n",
       "      <td>0.626007</td>\n",
       "      <td>0.355280</td>\n",
       "      <td>0.400770</td>\n",
       "      <td>2.313707</td>\n",
       "      <td>93.5</td>\n",
       "      <td>Western Europe</td>\n",
       "    </tr>\n",
       "    <tr>\n",
       "      <th>47</th>\n",
       "      <td>Iceland</td>\n",
       "      <td>3</td>\n",
       "      <td>7.504</td>\n",
       "      <td>1.480633</td>\n",
       "      <td>1.610574</td>\n",
       "      <td>0.833552</td>\n",
       "      <td>0.627163</td>\n",
       "      <td>0.475540</td>\n",
       "      <td>0.153527</td>\n",
       "      <td>2.322715</td>\n",
       "      <td>94.5</td>\n",
       "      <td>Western Europe</td>\n",
       "    </tr>\n",
       "    <tr>\n",
       "      <th>78</th>\n",
       "      <td>Switzerland</td>\n",
       "      <td>4</td>\n",
       "      <td>7.494</td>\n",
       "      <td>1.564980</td>\n",
       "      <td>1.516912</td>\n",
       "      <td>0.858131</td>\n",
       "      <td>0.620071</td>\n",
       "      <td>0.290549</td>\n",
       "      <td>0.367007</td>\n",
       "      <td>2.276716</td>\n",
       "      <td>93.7</td>\n",
       "      <td>Western Europe</td>\n",
       "    </tr>\n",
       "    <tr>\n",
       "      <th>101</th>\n",
       "      <td>Finland</td>\n",
       "      <td>5</td>\n",
       "      <td>7.469</td>\n",
       "      <td>1.443572</td>\n",
       "      <td>1.540247</td>\n",
       "      <td>0.809158</td>\n",
       "      <td>0.617951</td>\n",
       "      <td>0.245483</td>\n",
       "      <td>0.382612</td>\n",
       "      <td>2.430182</td>\n",
       "      <td>91.2</td>\n",
       "      <td>Western Europe</td>\n",
       "    </tr>\n",
       "    <tr>\n",
       "      <th>105</th>\n",
       "      <td>Netherlands</td>\n",
       "      <td>6</td>\n",
       "      <td>7.377</td>\n",
       "      <td>1.503945</td>\n",
       "      <td>1.428939</td>\n",
       "      <td>0.810696</td>\n",
       "      <td>0.585384</td>\n",
       "      <td>0.470490</td>\n",
       "      <td>0.282662</td>\n",
       "      <td>2.294804</td>\n",
       "      <td>93.8</td>\n",
       "      <td>Western Europe</td>\n",
       "    </tr>\n",
       "    <tr>\n",
       "      <th>81</th>\n",
       "      <td>Canada</td>\n",
       "      <td>7</td>\n",
       "      <td>7.316</td>\n",
       "      <td>1.479204</td>\n",
       "      <td>1.481349</td>\n",
       "      <td>0.834558</td>\n",
       "      <td>0.611101</td>\n",
       "      <td>0.435540</td>\n",
       "      <td>0.287372</td>\n",
       "      <td>2.187264</td>\n",
       "      <td>90.5</td>\n",
       "      <td>North America</td>\n",
       "    </tr>\n",
       "    <tr>\n",
       "      <th>5</th>\n",
       "      <td>New Zealand</td>\n",
       "      <td>8</td>\n",
       "      <td>7.314</td>\n",
       "      <td>1.405706</td>\n",
       "      <td>1.548195</td>\n",
       "      <td>0.816760</td>\n",
       "      <td>0.614062</td>\n",
       "      <td>0.500005</td>\n",
       "      <td>0.382817</td>\n",
       "      <td>2.046456</td>\n",
       "      <td>88.6</td>\n",
       "      <td>Asia-Pacific</td>\n",
       "    </tr>\n",
       "    <tr>\n",
       "      <th>148</th>\n",
       "      <td>Australia</td>\n",
       "      <td>10</td>\n",
       "      <td>7.284</td>\n",
       "      <td>1.484415</td>\n",
       "      <td>1.510042</td>\n",
       "      <td>0.843887</td>\n",
       "      <td>0.601607</td>\n",
       "      <td>0.477699</td>\n",
       "      <td>0.301184</td>\n",
       "      <td>2.065211</td>\n",
       "      <td>89.2</td>\n",
       "      <td>Asia-Pacific</td>\n",
       "    </tr>\n",
       "    <tr>\n",
       "      <th>21</th>\n",
       "      <td>Sweden</td>\n",
       "      <td>9</td>\n",
       "      <td>7.284</td>\n",
       "      <td>1.494387</td>\n",
       "      <td>1.478162</td>\n",
       "      <td>0.830875</td>\n",
       "      <td>0.612924</td>\n",
       "      <td>0.385399</td>\n",
       "      <td>0.384399</td>\n",
       "      <td>2.097538</td>\n",
       "      <td>92.7</td>\n",
       "      <td>Western Europe</td>\n",
       "    </tr>\n",
       "  </tbody>\n",
       "</table>\n",
       "</div>"
      ],
      "text/plain": [
       "         Country  Happiness Rank  Happiness Score   Economy    Family  \\\n",
       "109       Norway               1            7.537  1.616463  1.533524   \n",
       "97       Denmark               2            7.522  1.482383  1.551122   \n",
       "47       Iceland               3            7.504  1.480633  1.610574   \n",
       "78   Switzerland               4            7.494  1.564980  1.516912   \n",
       "101      Finland               5            7.469  1.443572  1.540247   \n",
       "105  Netherlands               6            7.377  1.503945  1.428939   \n",
       "81        Canada               7            7.316  1.479204  1.481349   \n",
       "5    New Zealand               8            7.314  1.405706  1.548195   \n",
       "148    Australia              10            7.284  1.484415  1.510042   \n",
       "21        Sweden               9            7.284  1.494387  1.478162   \n",
       "\n",
       "       Health   Freedom  Generosity  Corruption  Dystopia  Job Satisfaction  \\\n",
       "109  0.796667  0.635423    0.362012    0.315964  2.277027              94.6   \n",
       "97   0.792566  0.626007    0.355280    0.400770  2.313707              93.5   \n",
       "47   0.833552  0.627163    0.475540    0.153527  2.322715              94.5   \n",
       "78   0.858131  0.620071    0.290549    0.367007  2.276716              93.7   \n",
       "101  0.809158  0.617951    0.245483    0.382612  2.430182              91.2   \n",
       "105  0.810696  0.585384    0.470490    0.282662  2.294804              93.8   \n",
       "81   0.834558  0.611101    0.435540    0.287372  2.187264              90.5   \n",
       "5    0.816760  0.614062    0.500005    0.382817  2.046456              88.6   \n",
       "148  0.843887  0.601607    0.477699    0.301184  2.065211              89.2   \n",
       "21   0.830875  0.612924    0.385399    0.384399  2.097538              92.7   \n",
       "\n",
       "             Region  \n",
       "109  Western Europe  \n",
       "97   Western Europe  \n",
       "47   Western Europe  \n",
       "78   Western Europe  \n",
       "101  Western Europe  \n",
       "105  Western Europe  \n",
       "81    North America  \n",
       "5      Asia-Pacific  \n",
       "148    Asia-Pacific  \n",
       "21   Western Europe  "
      ]
     },
     "execution_count": 10,
     "metadata": {},
     "output_type": "execute_result"
    }
   ],
   "source": [
    "# The method sort_values() sorts the rows giving a criteria and an order and the method head() returns the head subset of a dataframe\n",
    "df.sort_values(by = ['Happiness Score'],ascending = False).head(10)"
   ]
  },
  {
   "cell_type": "markdown",
   "metadata": {},
   "source": [
    "**10. List the 10 least happy countries, ordered by their happiness score**"
   ]
  },
  {
   "cell_type": "code",
   "execution_count": 11,
   "metadata": {},
   "outputs": [
    {
     "data": {
      "text/html": [
       "<div>\n",
       "<style scoped>\n",
       "    .dataframe tbody tr th:only-of-type {\n",
       "        vertical-align: middle;\n",
       "    }\n",
       "\n",
       "    .dataframe tbody tr th {\n",
       "        vertical-align: top;\n",
       "    }\n",
       "\n",
       "    .dataframe thead th {\n",
       "        text-align: right;\n",
       "    }\n",
       "</style>\n",
       "<table border=\"1\" class=\"dataframe\">\n",
       "  <thead>\n",
       "    <tr style=\"text-align: right;\">\n",
       "      <th></th>\n",
       "      <th>Country</th>\n",
       "      <th>Happiness Rank</th>\n",
       "      <th>Happiness Score</th>\n",
       "      <th>Economy</th>\n",
       "      <th>Family</th>\n",
       "      <th>Health</th>\n",
       "      <th>Freedom</th>\n",
       "      <th>Generosity</th>\n",
       "      <th>Corruption</th>\n",
       "      <th>Dystopia</th>\n",
       "      <th>Job Satisfaction</th>\n",
       "      <th>Region</th>\n",
       "    </tr>\n",
       "  </thead>\n",
       "  <tbody>\n",
       "    <tr>\n",
       "      <th>124</th>\n",
       "      <td>Haiti</td>\n",
       "      <td>145</td>\n",
       "      <td>3.603</td>\n",
       "      <td>0.368610</td>\n",
       "      <td>0.640450</td>\n",
       "      <td>0.277321</td>\n",
       "      <td>0.030370</td>\n",
       "      <td>0.489204</td>\n",
       "      <td>0.099872</td>\n",
       "      <td>1.697168</td>\n",
       "      <td>48.5</td>\n",
       "      <td>Latin America</td>\n",
       "    </tr>\n",
       "    <tr>\n",
       "      <th>138</th>\n",
       "      <td>Yemen</td>\n",
       "      <td>146</td>\n",
       "      <td>3.593</td>\n",
       "      <td>0.591683</td>\n",
       "      <td>0.935382</td>\n",
       "      <td>0.310081</td>\n",
       "      <td>0.249464</td>\n",
       "      <td>0.104125</td>\n",
       "      <td>0.056767</td>\n",
       "      <td>1.345601</td>\n",
       "      <td>58.9</td>\n",
       "      <td>Asia-Pacific</td>\n",
       "    </tr>\n",
       "    <tr>\n",
       "      <th>139</th>\n",
       "      <td>Liberia</td>\n",
       "      <td>148</td>\n",
       "      <td>3.533</td>\n",
       "      <td>0.119042</td>\n",
       "      <td>0.872118</td>\n",
       "      <td>0.229918</td>\n",
       "      <td>0.332881</td>\n",
       "      <td>0.266550</td>\n",
       "      <td>0.038948</td>\n",
       "      <td>1.673286</td>\n",
       "      <td>56.6</td>\n",
       "      <td>Africa</td>\n",
       "    </tr>\n",
       "    <tr>\n",
       "      <th>107</th>\n",
       "      <td>Guinea</td>\n",
       "      <td>149</td>\n",
       "      <td>3.507</td>\n",
       "      <td>0.244550</td>\n",
       "      <td>0.791245</td>\n",
       "      <td>0.194129</td>\n",
       "      <td>0.348588</td>\n",
       "      <td>0.264815</td>\n",
       "      <td>0.110938</td>\n",
       "      <td>1.552312</td>\n",
       "      <td>55.1</td>\n",
       "      <td>Africa</td>\n",
       "    </tr>\n",
       "    <tr>\n",
       "      <th>53</th>\n",
       "      <td>Togo</td>\n",
       "      <td>150</td>\n",
       "      <td>3.495</td>\n",
       "      <td>0.305445</td>\n",
       "      <td>0.431883</td>\n",
       "      <td>0.247106</td>\n",
       "      <td>0.380426</td>\n",
       "      <td>0.196896</td>\n",
       "      <td>0.095665</td>\n",
       "      <td>1.837229</td>\n",
       "      <td>44.8</td>\n",
       "      <td>Africa</td>\n",
       "    </tr>\n",
       "    <tr>\n",
       "      <th>133</th>\n",
       "      <td>Rwanda</td>\n",
       "      <td>151</td>\n",
       "      <td>3.471</td>\n",
       "      <td>0.368746</td>\n",
       "      <td>0.945707</td>\n",
       "      <td>0.326425</td>\n",
       "      <td>0.581844</td>\n",
       "      <td>0.252756</td>\n",
       "      <td>0.455220</td>\n",
       "      <td>0.540061</td>\n",
       "      <td>51.7</td>\n",
       "      <td>Africa</td>\n",
       "    </tr>\n",
       "    <tr>\n",
       "      <th>39</th>\n",
       "      <td>Syria</td>\n",
       "      <td>152</td>\n",
       "      <td>3.462</td>\n",
       "      <td>0.777153</td>\n",
       "      <td>0.396103</td>\n",
       "      <td>0.500533</td>\n",
       "      <td>0.081539</td>\n",
       "      <td>0.493664</td>\n",
       "      <td>0.151347</td>\n",
       "      <td>1.061574</td>\n",
       "      <td>62.7</td>\n",
       "      <td>Asia-Pacific</td>\n",
       "    </tr>\n",
       "    <tr>\n",
       "      <th>45</th>\n",
       "      <td>Tanzania</td>\n",
       "      <td>153</td>\n",
       "      <td>3.349</td>\n",
       "      <td>0.511136</td>\n",
       "      <td>1.041990</td>\n",
       "      <td>0.364509</td>\n",
       "      <td>0.390018</td>\n",
       "      <td>0.354256</td>\n",
       "      <td>0.066035</td>\n",
       "      <td>0.621130</td>\n",
       "      <td>57.8</td>\n",
       "      <td>Africa</td>\n",
       "    </tr>\n",
       "    <tr>\n",
       "      <th>40</th>\n",
       "      <td>Burundi</td>\n",
       "      <td>154</td>\n",
       "      <td>2.905</td>\n",
       "      <td>0.091623</td>\n",
       "      <td>0.629794</td>\n",
       "      <td>0.151611</td>\n",
       "      <td>0.059901</td>\n",
       "      <td>0.204435</td>\n",
       "      <td>0.084148</td>\n",
       "      <td>1.683024</td>\n",
       "      <td>54.3</td>\n",
       "      <td>Africa</td>\n",
       "    </tr>\n",
       "    <tr>\n",
       "      <th>79</th>\n",
       "      <td>Central African Republic</td>\n",
       "      <td>155</td>\n",
       "      <td>2.693</td>\n",
       "      <td>0.000000</td>\n",
       "      <td>0.000000</td>\n",
       "      <td>0.018773</td>\n",
       "      <td>0.270842</td>\n",
       "      <td>0.280876</td>\n",
       "      <td>0.056565</td>\n",
       "      <td>2.066005</td>\n",
       "      <td>70.4</td>\n",
       "      <td>Africa</td>\n",
       "    </tr>\n",
       "  </tbody>\n",
       "</table>\n",
       "</div>"
      ],
      "text/plain": [
       "                      Country  Happiness Rank  Happiness Score   Economy  \\\n",
       "124                     Haiti             145            3.603  0.368610   \n",
       "138                     Yemen             146            3.593  0.591683   \n",
       "139                   Liberia             148            3.533  0.119042   \n",
       "107                    Guinea             149            3.507  0.244550   \n",
       "53                       Togo             150            3.495  0.305445   \n",
       "133                    Rwanda             151            3.471  0.368746   \n",
       "39                      Syria             152            3.462  0.777153   \n",
       "45                   Tanzania             153            3.349  0.511136   \n",
       "40                    Burundi             154            2.905  0.091623   \n",
       "79   Central African Republic             155            2.693  0.000000   \n",
       "\n",
       "       Family    Health   Freedom  Generosity  Corruption  Dystopia  \\\n",
       "124  0.640450  0.277321  0.030370    0.489204    0.099872  1.697168   \n",
       "138  0.935382  0.310081  0.249464    0.104125    0.056767  1.345601   \n",
       "139  0.872118  0.229918  0.332881    0.266550    0.038948  1.673286   \n",
       "107  0.791245  0.194129  0.348588    0.264815    0.110938  1.552312   \n",
       "53   0.431883  0.247106  0.380426    0.196896    0.095665  1.837229   \n",
       "133  0.945707  0.326425  0.581844    0.252756    0.455220  0.540061   \n",
       "39   0.396103  0.500533  0.081539    0.493664    0.151347  1.061574   \n",
       "45   1.041990  0.364509  0.390018    0.354256    0.066035  0.621130   \n",
       "40   0.629794  0.151611  0.059901    0.204435    0.084148  1.683024   \n",
       "79   0.000000  0.018773  0.270842    0.280876    0.056565  2.066005   \n",
       "\n",
       "     Job Satisfaction         Region  \n",
       "124              48.5  Latin America  \n",
       "138              58.9   Asia-Pacific  \n",
       "139              56.6         Africa  \n",
       "107              55.1         Africa  \n",
       "53               44.8         Africa  \n",
       "133              51.7         Africa  \n",
       "39               62.7   Asia-Pacific  \n",
       "45               57.8         Africa  \n",
       "40               54.3         Africa  \n",
       "79               70.4         Africa  "
      ]
     },
     "execution_count": 11,
     "metadata": {},
     "output_type": "execute_result"
    }
   ],
   "source": [
    "# The method tail() returns the tail subset of a dataframe\n",
    "df.sort_values(by = ['Happiness Score'],ascending = False).tail(10)"
   ]
  },
  {
   "cell_type": "markdown",
   "metadata": {},
   "source": [
    "#### B. Indexing and grouping"
   ]
  },
  {
   "cell_type": "markdown",
   "metadata": {},
   "source": [
    "**1. Group the data points by region and save them into separate .csv files ex. a Western Europe.csv with all the data for countries in Western Europe and so on for the other 5 regions**"
   ]
  },
  {
   "cell_type": "code",
   "execution_count": 12,
   "metadata": {},
   "outputs": [],
   "source": [
    "# Setting the country as index\n",
    "df.set_index('Country', inplace=True)"
   ]
  },
  {
   "cell_type": "code",
   "execution_count": 13,
   "metadata": {},
   "outputs": [
    {
     "data": {
      "text/html": [
       "<div>\n",
       "<style scoped>\n",
       "    .dataframe tbody tr th:only-of-type {\n",
       "        vertical-align: middle;\n",
       "    }\n",
       "\n",
       "    .dataframe tbody tr th {\n",
       "        vertical-align: top;\n",
       "    }\n",
       "\n",
       "    .dataframe thead th {\n",
       "        text-align: right;\n",
       "    }\n",
       "</style>\n",
       "<table border=\"1\" class=\"dataframe\">\n",
       "  <thead>\n",
       "    <tr style=\"text-align: right;\">\n",
       "      <th></th>\n",
       "      <th>Happiness Rank</th>\n",
       "      <th>Happiness Score</th>\n",
       "      <th>Economy</th>\n",
       "      <th>Family</th>\n",
       "      <th>Health</th>\n",
       "      <th>Freedom</th>\n",
       "      <th>Generosity</th>\n",
       "      <th>Corruption</th>\n",
       "      <th>Dystopia</th>\n",
       "      <th>Job Satisfaction</th>\n",
       "    </tr>\n",
       "    <tr>\n",
       "      <th>Region</th>\n",
       "      <th></th>\n",
       "      <th></th>\n",
       "      <th></th>\n",
       "      <th></th>\n",
       "      <th></th>\n",
       "      <th></th>\n",
       "      <th></th>\n",
       "      <th></th>\n",
       "      <th></th>\n",
       "      <th></th>\n",
       "    </tr>\n",
       "  </thead>\n",
       "  <tbody>\n",
       "    <tr>\n",
       "      <th>Africa</th>\n",
       "      <td>43</td>\n",
       "      <td>43</td>\n",
       "      <td>43</td>\n",
       "      <td>43</td>\n",
       "      <td>43</td>\n",
       "      <td>43</td>\n",
       "      <td>43</td>\n",
       "      <td>43</td>\n",
       "      <td>43</td>\n",
       "      <td>43</td>\n",
       "    </tr>\n",
       "    <tr>\n",
       "      <th>Asia-Pacific</th>\n",
       "      <td>43</td>\n",
       "      <td>43</td>\n",
       "      <td>43</td>\n",
       "      <td>43</td>\n",
       "      <td>43</td>\n",
       "      <td>43</td>\n",
       "      <td>43</td>\n",
       "      <td>43</td>\n",
       "      <td>43</td>\n",
       "      <td>43</td>\n",
       "    </tr>\n",
       "    <tr>\n",
       "      <th>Eastern Europe</th>\n",
       "      <td>21</td>\n",
       "      <td>21</td>\n",
       "      <td>21</td>\n",
       "      <td>21</td>\n",
       "      <td>21</td>\n",
       "      <td>21</td>\n",
       "      <td>21</td>\n",
       "      <td>21</td>\n",
       "      <td>21</td>\n",
       "      <td>21</td>\n",
       "    </tr>\n",
       "    <tr>\n",
       "      <th>Europe</th>\n",
       "      <td>1</td>\n",
       "      <td>1</td>\n",
       "      <td>1</td>\n",
       "      <td>1</td>\n",
       "      <td>1</td>\n",
       "      <td>1</td>\n",
       "      <td>1</td>\n",
       "      <td>1</td>\n",
       "      <td>1</td>\n",
       "      <td>1</td>\n",
       "    </tr>\n",
       "    <tr>\n",
       "      <th>Latin America</th>\n",
       "      <td>22</td>\n",
       "      <td>22</td>\n",
       "      <td>22</td>\n",
       "      <td>22</td>\n",
       "      <td>22</td>\n",
       "      <td>22</td>\n",
       "      <td>22</td>\n",
       "      <td>22</td>\n",
       "      <td>22</td>\n",
       "      <td>22</td>\n",
       "    </tr>\n",
       "    <tr>\n",
       "      <th>North America</th>\n",
       "      <td>2</td>\n",
       "      <td>2</td>\n",
       "      <td>2</td>\n",
       "      <td>2</td>\n",
       "      <td>2</td>\n",
       "      <td>2</td>\n",
       "      <td>2</td>\n",
       "      <td>2</td>\n",
       "      <td>2</td>\n",
       "      <td>2</td>\n",
       "    </tr>\n",
       "    <tr>\n",
       "      <th>Western Europe</th>\n",
       "      <td>19</td>\n",
       "      <td>19</td>\n",
       "      <td>19</td>\n",
       "      <td>19</td>\n",
       "      <td>19</td>\n",
       "      <td>19</td>\n",
       "      <td>19</td>\n",
       "      <td>19</td>\n",
       "      <td>19</td>\n",
       "      <td>19</td>\n",
       "    </tr>\n",
       "  </tbody>\n",
       "</table>\n",
       "</div>"
      ],
      "text/plain": [
       "                Happiness Rank  Happiness Score  Economy  Family  Health  \\\n",
       "Region                                                                     \n",
       "Africa                      43               43       43      43      43   \n",
       "Asia-Pacific                43               43       43      43      43   \n",
       "Eastern Europe              21               21       21      21      21   \n",
       "Europe                       1                1        1       1       1   \n",
       "Latin America               22               22       22      22      22   \n",
       "North America                2                2        2       2       2   \n",
       "Western Europe              19               19       19      19      19   \n",
       "\n",
       "                Freedom  Generosity  Corruption  Dystopia  Job Satisfaction  \n",
       "Region                                                                       \n",
       "Africa               43          43          43        43                43  \n",
       "Asia-Pacific         43          43          43        43                43  \n",
       "Eastern Europe       21          21          21        21                21  \n",
       "Europe                1           1           1         1                 1  \n",
       "Latin America        22          22          22        22                22  \n",
       "North America         2           2           2         2                 2  \n",
       "Western Europe       19          19          19        19                19  "
      ]
     },
     "execution_count": 13,
     "metadata": {},
     "output_type": "execute_result"
    }
   ],
   "source": [
    "# Using the count() method to have an overview of the Region\n",
    "df.groupby(['Region']).count()"
   ]
  },
  {
   "cell_type": "code",
   "execution_count": 14,
   "metadata": {},
   "outputs": [
    {
     "data": {
      "text/html": [
       "<div>\n",
       "<style scoped>\n",
       "    .dataframe tbody tr th:only-of-type {\n",
       "        vertical-align: middle;\n",
       "    }\n",
       "\n",
       "    .dataframe tbody tr th {\n",
       "        vertical-align: top;\n",
       "    }\n",
       "\n",
       "    .dataframe thead th {\n",
       "        text-align: right;\n",
       "    }\n",
       "</style>\n",
       "<table border=\"1\" class=\"dataframe\">\n",
       "  <thead>\n",
       "    <tr style=\"text-align: right;\">\n",
       "      <th></th>\n",
       "      <th>Happiness Rank</th>\n",
       "      <th>Happiness Score</th>\n",
       "      <th>Economy</th>\n",
       "      <th>Family</th>\n",
       "      <th>Health</th>\n",
       "      <th>Freedom</th>\n",
       "      <th>Generosity</th>\n",
       "      <th>Corruption</th>\n",
       "      <th>Dystopia</th>\n",
       "      <th>Job Satisfaction</th>\n",
       "      <th>Region</th>\n",
       "    </tr>\n",
       "    <tr>\n",
       "      <th>Country</th>\n",
       "      <th></th>\n",
       "      <th></th>\n",
       "      <th></th>\n",
       "      <th></th>\n",
       "      <th></th>\n",
       "      <th></th>\n",
       "      <th></th>\n",
       "      <th></th>\n",
       "      <th></th>\n",
       "      <th></th>\n",
       "      <th></th>\n",
       "    </tr>\n",
       "  </thead>\n",
       "  <tbody>\n",
       "    <tr>\n",
       "      <th>Ukraine</th>\n",
       "      <td>132</td>\n",
       "      <td>4.096</td>\n",
       "      <td>0.894652</td>\n",
       "      <td>1.394538</td>\n",
       "      <td>0.575904</td>\n",
       "      <td>0.122975</td>\n",
       "      <td>0.270061</td>\n",
       "      <td>0.023029</td>\n",
       "      <td>0.814382</td>\n",
       "      <td>72.3</td>\n",
       "      <td>Europe</td>\n",
       "    </tr>\n",
       "  </tbody>\n",
       "</table>\n",
       "</div>"
      ],
      "text/plain": [
       "         Happiness Rank  Happiness Score   Economy    Family    Health  \\\n",
       "Country                                                                  \n",
       "Ukraine             132            4.096  0.894652  1.394538  0.575904   \n",
       "\n",
       "          Freedom  Generosity  Corruption  Dystopia  Job Satisfaction  Region  \n",
       "Country                                                                        \n",
       "Ukraine  0.122975    0.270061    0.023029  0.814382              72.3  Europe  "
      ]
     },
     "execution_count": 14,
     "metadata": {},
     "output_type": "execute_result"
    }
   ],
   "source": [
    "# Displaying the unique country in the Europe Region\n",
    "df[df['Region'] == 'Europe']"
   ]
  },
  {
   "cell_type": "markdown",
   "metadata": {},
   "source": [
    "At this stage we decide to move Ukraine to the Eastern Europe Region.\n",
    "We keep the North America region although this region contains only 2 countries. Another option would be to merge Latin America and North America to have a region with a size more homegeneous with the other regions. "
   ]
  },
  {
   "cell_type": "code",
   "execution_count": 15,
   "metadata": {},
   "outputs": [],
   "source": [
    "# Moving Ukraine to the Eastern Europe Region and merging the Americas regions\n",
    "df['Region'].replace('Europe', 'Eastern Europe', inplace = True)"
   ]
  },
  {
   "cell_type": "code",
   "execution_count": 16,
   "metadata": {},
   "outputs": [],
   "source": [
    "# Writing a csv file for each 5 regions\n",
    "df[(df['Region'] == 'Africa')].to_csv(\"Africa.csv\", encoding='utf-8')\n",
    "df[(df['Region'] == 'Western Europe')].to_csv(\"Western Europe.csv\", encoding='utf-8')\n",
    "df[(df['Region'] == 'Eastern Europe')].to_csv(\"Eastern Europe.csv\", encoding='utf-8')\n",
    "df[(df['Region'] == 'North America')].to_csv(\"North America.csv\", encoding='utf-8')\n",
    "df[(df['Region'] == 'Latin America')].to_csv(\"Latin America.csv\", encoding='utf-8')\n",
    "df[(df['Region'] == 'Asia-Pacific')].to_csv(\"Asia-Pacific.csv\", encoding='utf-8')"
   ]
  },
  {
   "cell_type": "markdown",
   "metadata": {},
   "source": [
    "**2. Compute the mean happiness score for each region and rank the regions from most happy to least happy**"
   ]
  },
  {
   "cell_type": "code",
   "execution_count": 17,
   "metadata": {},
   "outputs": [
    {
     "data": {
      "text/plain": [
       "Region\n",
       "North America     7.154500\n",
       "Western Europe    6.880474\n",
       "Latin America     5.957818\n",
       "Eastern Europe    5.435182\n",
       "Asia-Pacific      5.358326\n",
       "Africa            4.254581\n",
       "Name: Happiness Score, dtype: float64"
      ]
     },
     "execution_count": 17,
     "metadata": {},
     "output_type": "execute_result"
    }
   ],
   "source": [
    "# Combining the group_by(), the mean() and sort_values() methods to rank the regions from most happy to least happy\n",
    "df.groupby(['Region'])['Happiness Score'].mean().sort_values(ascending = False)"
   ]
  },
  {
   "cell_type": "markdown",
   "metadata": {},
   "source": [
    "**3. Compute the number of countries in each region that have a happiness score above 6.0**"
   ]
  },
  {
   "cell_type": "code",
   "execution_count": 18,
   "metadata": {},
   "outputs": [
    {
     "data": {
      "text/plain": [
       "Region\n",
       "Asia-Pacific      11\n",
       "Eastern Europe     1\n",
       "Latin America     13\n",
       "North America      2\n",
       "Western Europe    17\n",
       "Name: Happiness Score, dtype: int64"
      ]
     },
     "execution_count": 18,
     "metadata": {},
     "output_type": "execute_result"
    }
   ],
   "source": [
    "# Using the group_by() and count() methods to compute the number of countries that have a happiness score above 6.0 by region\n",
    "df[df['Happiness Score'] > 6.0].groupby(['Region'])['Happiness Score'].count()"
   ]
  },
  {
   "cell_type": "markdown",
   "metadata": {},
   "source": [
    "**4. Compute the difference between the maximum and minimum happiness score for each region**  \n",
    "Which region has the largest range of happiness scores?"
   ]
  },
  {
   "cell_type": "code",
   "execution_count": 19,
   "metadata": {},
   "outputs": [
    {
     "data": {
      "text/html": [
       "<div>\n",
       "<style scoped>\n",
       "    .dataframe tbody tr th:only-of-type {\n",
       "        vertical-align: middle;\n",
       "    }\n",
       "\n",
       "    .dataframe tbody tr th {\n",
       "        vertical-align: top;\n",
       "    }\n",
       "\n",
       "    .dataframe thead th {\n",
       "        text-align: right;\n",
       "    }\n",
       "</style>\n",
       "<table border=\"1\" class=\"dataframe\">\n",
       "  <thead>\n",
       "    <tr style=\"text-align: right;\">\n",
       "      <th></th>\n",
       "      <th>Happiness Score Range</th>\n",
       "    </tr>\n",
       "    <tr>\n",
       "      <th>Region</th>\n",
       "      <th></th>\n",
       "    </tr>\n",
       "  </thead>\n",
       "  <tbody>\n",
       "    <tr>\n",
       "      <th>Africa</th>\n",
       "      <td>3.179</td>\n",
       "    </tr>\n",
       "    <tr>\n",
       "      <th>Asia-Pacific</th>\n",
       "      <td>3.852</td>\n",
       "    </tr>\n",
       "    <tr>\n",
       "      <th>Eastern Europe</th>\n",
       "      <td>2.002</td>\n",
       "    </tr>\n",
       "    <tr>\n",
       "      <th>Latin America</th>\n",
       "      <td>3.476</td>\n",
       "    </tr>\n",
       "    <tr>\n",
       "      <th>North America</th>\n",
       "      <td>0.323</td>\n",
       "    </tr>\n",
       "    <tr>\n",
       "      <th>Western Europe</th>\n",
       "      <td>2.342</td>\n",
       "    </tr>\n",
       "  </tbody>\n",
       "</table>\n",
       "</div>"
      ],
      "text/plain": [
       "                Happiness Score Range\n",
       "Region                               \n",
       "Africa                          3.179\n",
       "Asia-Pacific                    3.852\n",
       "Eastern Europe                  2.002\n",
       "Latin America                   3.476\n",
       "North America                   0.323\n",
       "Western Europe                  2.342"
      ]
     },
     "execution_count": 19,
     "metadata": {},
     "output_type": "execute_result"
    }
   ],
   "source": [
    "# Calculate the happiness score range by region using the agg() method and rename the column result\n",
    "df.groupby(['Region'])['Happiness Score'].agg(lambda x: max(x) - min(x)).to_frame().rename(columns={\"Happiness Score\": \"Happiness Score Range\"})"
   ]
  },
  {
   "cell_type": "markdown",
   "metadata": {},
   "source": [
    "Asia-Pacific is the region with the largest range of hapiness scores"
   ]
  },
  {
   "cell_type": "markdown",
   "metadata": {},
   "source": [
    "#### C. Bar plot of the Happiness Score"
   ]
  },
  {
   "cell_type": "markdown",
   "metadata": {},
   "source": [
    "**1. Horizontal bar chart of the Happiness Score**"
   ]
  },
  {
   "cell_type": "code",
   "execution_count": 20,
   "metadata": {},
   "outputs": [
    {
     "data": {
      "image/png": "[encoded data removed]",
      "text/plain": [
       "<Figure size 864x360 with 1 Axes>"
      ]
     },
     "metadata": {
      "needs_background": "light"
     },
     "output_type": "display_data"
    }
   ],
   "source": [
    "# Select the dataframe to plot (10 higher happiness scores)\n",
    "values = df['Happiness Score'].sort_values(ascending = False).head(10)\n",
    "# Set a color palette \n",
    "colormap = plt.cm.tab10(range(0, len(values)))\n",
    "# Horizontal bar plot\n",
    "bar_plot = values.plot.barh(color=colormap, width = 0.8, figsize =(12,5))\n",
    "bar_plot.set_title('Happiness Score of the top 10 happiest countries', fontweight = 'bold')\n",
    "bar_plot.set_xlabel('Happiness Score')\n",
    "bar_plot.invert_yaxis()\n",
    "plt.figtext(1,-0.02,'Data source: data.csv - World Happiness Report 2017 from Gallup World Poll', horizontalalignment='right')\n",
    "plt.show()"
   ]
  },
  {
   "cell_type": "markdown",
   "metadata": {},
   "source": [
    "**2. Stacked bar chart of the Happiness Score**"
   ]
  },
  {
   "cell_type": "code",
   "execution_count": 21,
   "metadata": {},
   "outputs": [
    {
     "data": {
      "image/png": "[encoded data removed]",
      "text/plain": [
       "<Figure size 864x360 with 1 Axes>"
      ]
     },
     "metadata": {
      "needs_background": "light"
     },
     "output_type": "display_data"
    }
   ],
   "source": [
    "# Select the dataframe to plot (10 countries with the higher happiness scores)\n",
    "values = df.sort_values(by = ['Happiness Score'],ascending = False).head(10)\n",
    "# Horizontal stacked bar plot\n",
    "bar_plot = values['Economy'].plot.barh(color='blue', width = 0.8, label='Economy', figsize =(12,5))\n",
    "bar_plot = values['Family'].plot.barh(color='red', width = 0.8, left = values['Economy'], label='Family')\n",
    "bar_plot = values['Health'].plot.barh(color='green', width = 0.8, left = values['Economy']+values['Family'], label='Health')\n",
    "bar_plot = values['Freedom'].plot.barh(color='yellow', width = 0.8, left = values['Economy']+values['Family']+values['Health'], label='Freedom')\n",
    "bar_plot = values['Generosity'].plot.barh(color='orange', width = 0.8, left = values['Economy']+values['Family']+values['Health']+values['Freedom'], label='Generosity')\n",
    "bar_plot = values['Corruption'].plot.barh(color='grey', width = 0.8, left = values['Economy']+values['Family']+values['Health']+values['Freedom']+values['Generosity'], label='Corruption')\n",
    "bar_plot = values['Dystopia'].plot.barh(color='pink', width = 0.8, left = values['Economy']+values['Family']+values['Health']+values['Freedom']+values['Generosity']+values['Corruption'], label='Dystopia')\n",
    "bar_plot.set_title('Happiness Score of the top 10 happiest countries by criteria ', fontweight = 'bold')\n",
    "bar_plot.set_xlabel('Score')\n",
    "bar_plot.invert_yaxis()\n",
    "plt.legend(loc='upper center', bbox_to_anchor=(0.5, -0.12), fancybox=True, shadow=True, ncol=7)\n",
    "plt.figtext(1,-0.08,'Data source: data.csv - World Happiness Report 2017 from Gallup World Poll', horizontalalignment='right')\n",
    "plt.show()"
   ]
  },
  {
   "cell_type": "markdown",
   "metadata": {},
   "source": [
    "**3. Stacked bar chart of the Happiness Score for Africa**"
   ]
  },
  {
   "cell_type": "code",
   "execution_count": 22,
   "metadata": {},
   "outputs": [
    {
     "data": {
      "image/png": "[encoded data removed]",
      "text/plain": [
       "<Figure size 864x1080 with 1 Axes>"
      ]
     },
     "metadata": {
      "needs_background": "light"
     },
     "output_type": "display_data"
    }
   ],
   "source": [
    "# Select the dataframe to plot (African countries ranked by their happiness score)\n",
    "values = df[(df['Region'] == 'Africa')].sort_values(by = ['Happiness Score'],ascending = False)\n",
    "# Horizontal stacked bar plot\n",
    "bar_plot = values['Economy'].plot.barh(color='blue', width = 0.8, label='Economy', figsize =(12,15))\n",
    "bar_plot = values['Family'].plot.barh(color='red', width = 0.8, left = values['Economy'], label='Family')\n",
    "bar_plot = values['Health'].plot.barh(color='green', width = 0.8, left = values['Economy']+values['Family'], label='Health')\n",
    "bar_plot = values['Freedom'].plot.barh(color='yellow', width = 0.8, left = values['Economy']+values['Family']+values['Health'], label='Freedom')\n",
    "bar_plot = values['Generosity'].plot.barh(color='orange', width = 0.8, left = values['Economy']+values['Family']+values['Health']+values['Freedom'], label='Generosity')\n",
    "bar_plot = values['Corruption'].plot.barh(color='grey', width = 0.8, left = values['Economy']+values['Family']+values['Health']+values['Freedom']+values['Generosity'], label='Corruption')\n",
    "bar_plot = values['Dystopia'].plot.barh(color='pink', width = 0.8, left = values['Economy']+values['Family']+values['Health']+values['Freedom']+values['Generosity']+values['Corruption'], label='Dystopia')\n",
    "bar_plot.set_title('Happiness Score of the African countries by criteria ', fontweight = 'bold')\n",
    "bar_plot.set_xlabel('Score')\n",
    "bar_plot.invert_yaxis()\n",
    "plt.legend(loc='upper center', bbox_to_anchor=(0.5, -0.05), fancybox=True, shadow=True, ncol=7)\n",
    "plt.figtext(1,0.04,'Data source: data.csv - World Happiness Report 2017 from Gallup World Poll', horizontalalignment='right')\n",
    "plt.figtext(1,0.02,'Remark: Lesotho, Angola and Central African Republic have have zero values for one or two criterias impacting their overall scores', horizontalalignment='right')\n",
    "plt.show()"
   ]
  },
  {
   "cell_type": "markdown",
   "metadata": {},
   "source": [
    "#### D. Histogram of Job Satisfaction"
   ]
  },
  {
   "cell_type": "markdown",
   "metadata": {},
   "source": [
    "**1. Obtain a histogram of the Job Satisfaction using the following categories:  \n",
    "40%-50%, 50%-60%, 60%-70%, 70%-80%, 80%-90%, 90%-100%**"
   ]
  },
  {
   "cell_type": "code",
   "execution_count": 23,
   "metadata": {},
   "outputs": [
    {
     "data": {
      "image/png": "[encoded data removed]",
      "text/plain": [
       "<Figure size 864x360 with 1 Axes>"
      ]
     },
     "metadata": {
      "needs_background": "light"
     },
     "output_type": "display_data"
    }
   ],
   "source": [
    "# Select the dataframe to plot (job satisfaction for all countries)\n",
    "values = df['Job Satisfaction']\n",
    "# Histogram plot\n",
    "hist_plot = values.plot.hist(bins = range(40, 100, 10), color='blue', edgecolor='black', figsize =(12,5) )\n",
    "hist_plot.set_xlabel('Job Satisfaction Level in %')\n",
    "hist_plot.set_ylabel('Number od countries')\n",
    "hist_plot.set_title('Job satisfaction', fontweight = 'bold')\n",
    "plt.figtext(.9,-0.03,'Data source: data.csv - World Happiness Report 2017 from Gallup World Poll', horizontalalignment='right')\n",
    "plt.show()"
   ]
  },
  {
   "cell_type": "markdown",
   "metadata": {},
   "source": [
    "#### E. Pairwise scatter plots"
   ]
  },
  {
   "cell_type": "markdown",
   "metadata": {},
   "source": [
    "**1. Obtain scatter plots of the Happiness Score versus each of the other variables**  \n",
    "\n",
    "The plots should be displayed as multiple plots table and obtained with one command as opposed to separate commands for each plot."
   ]
  },
  {
   "cell_type": "code",
   "execution_count": 24,
   "metadata": {},
   "outputs": [
    {
     "data": {
      "image/png": "[encoded data removed]",
      "text/plain": [
       "<Figure size 835x180 with 4 Axes>"
      ]
     },
     "metadata": {
      "needs_background": "light"
     },
     "output_type": "display_data"
    },
    {
     "data": {
      "image/png": "[encoded data removed]",
      "text/plain": [
       "<Figure size 655x180 with 3 Axes>"
      ]
     },
     "metadata": {
      "needs_background": "light"
     },
     "output_type": "display_data"
    }
   ],
   "source": [
    "# Pairwise scatter plots of the Happiness Score versus each of the other variables (in 2 lines for readability)\n",
    "pplt1 = sns.pairplot(df, y_vars = ['Happiness Score'], x_vars = ['Economy','Family','Health','Freedom'], hue = 'Region')\n",
    "pplt1._legend.remove()\n",
    "plt.title('Pairwise scatter plots of the Happiness Score versus each of the other variables', fontweight = 'bold',  horizontalalignment='right')\n",
    "pplt2 = sns.pairplot(df, y_vars = ['Happiness Score'], x_vars = ['Generosity','Corruption','Dystopia'], hue = 'Region')\n",
    "plt.figtext(1.1,-0.08,'Data source: data.csv - World Happiness Report 2017 from Gallup World Poll', horizontalalignment='right')\n",
    "plt.show()"
   ]
  },
  {
   "cell_type": "markdown",
   "metadata": {},
   "source": [
    "#### F. Correlation"
   ]
  },
  {
   "cell_type": "markdown",
   "metadata": {},
   "source": [
    "**1. Obtain the correlation between the Happiness Score and each of the other variables**  \n",
    "\n",
    "Which variable has the highest correlation with the Happiness Score?"
   ]
  },
  {
   "cell_type": "code",
   "execution_count": 25,
   "metadata": {},
   "outputs": [
    {
     "data": {
      "text/html": [
       "<div>\n",
       "<style scoped>\n",
       "    .dataframe tbody tr th:only-of-type {\n",
       "        vertical-align: middle;\n",
       "    }\n",
       "\n",
       "    .dataframe tbody tr th {\n",
       "        vertical-align: top;\n",
       "    }\n",
       "\n",
       "    .dataframe thead th {\n",
       "        text-align: right;\n",
       "    }\n",
       "</style>\n",
       "<table border=\"1\" class=\"dataframe\">\n",
       "  <thead>\n",
       "    <tr style=\"text-align: right;\">\n",
       "      <th></th>\n",
       "      <th>Happiness Score</th>\n",
       "      <th>Economy</th>\n",
       "      <th>Family</th>\n",
       "      <th>Health</th>\n",
       "      <th>Freedom</th>\n",
       "      <th>Generosity</th>\n",
       "      <th>Corruption</th>\n",
       "      <th>Dystopia</th>\n",
       "    </tr>\n",
       "  </thead>\n",
       "  <tbody>\n",
       "    <tr>\n",
       "      <th>Happiness Score</th>\n",
       "      <td>1.000000</td>\n",
       "      <td>0.808678</td>\n",
       "      <td>0.749612</td>\n",
       "      <td>0.777731</td>\n",
       "      <td>0.567948</td>\n",
       "      <td>0.164123</td>\n",
       "      <td>0.438262</td>\n",
       "      <td>0.481117</td>\n",
       "    </tr>\n",
       "    <tr>\n",
       "      <th>Economy</th>\n",
       "      <td>0.808678</td>\n",
       "      <td>1.000000</td>\n",
       "      <td>0.685524</td>\n",
       "      <td>0.838884</td>\n",
       "      <td>0.363843</td>\n",
       "      <td>-0.015614</td>\n",
       "      <td>0.358750</td>\n",
       "      <td>0.022620</td>\n",
       "    </tr>\n",
       "    <tr>\n",
       "      <th>Family</th>\n",
       "      <td>0.749612</td>\n",
       "      <td>0.685524</td>\n",
       "      <td>1.000000</td>\n",
       "      <td>0.606674</td>\n",
       "      <td>0.412633</td>\n",
       "      <td>0.050771</td>\n",
       "      <td>0.236262</td>\n",
       "      <td>0.075480</td>\n",
       "    </tr>\n",
       "    <tr>\n",
       "      <th>Health</th>\n",
       "      <td>0.777731</td>\n",
       "      <td>0.838884</td>\n",
       "      <td>0.606674</td>\n",
       "      <td>1.000000</td>\n",
       "      <td>0.340986</td>\n",
       "      <td>0.068895</td>\n",
       "      <td>0.286777</td>\n",
       "      <td>0.055886</td>\n",
       "    </tr>\n",
       "    <tr>\n",
       "      <th>Freedom</th>\n",
       "      <td>0.567948</td>\n",
       "      <td>0.363843</td>\n",
       "      <td>0.412633</td>\n",
       "      <td>0.340986</td>\n",
       "      <td>1.000000</td>\n",
       "      <td>0.319387</td>\n",
       "      <td>0.501632</td>\n",
       "      <td>0.092923</td>\n",
       "    </tr>\n",
       "    <tr>\n",
       "      <th>Generosity</th>\n",
       "      <td>0.164123</td>\n",
       "      <td>-0.015614</td>\n",
       "      <td>0.050771</td>\n",
       "      <td>0.068895</td>\n",
       "      <td>0.319387</td>\n",
       "      <td>1.000000</td>\n",
       "      <td>0.292363</td>\n",
       "      <td>-0.102683</td>\n",
       "    </tr>\n",
       "    <tr>\n",
       "      <th>Corruption</th>\n",
       "      <td>0.438262</td>\n",
       "      <td>0.358750</td>\n",
       "      <td>0.236262</td>\n",
       "      <td>0.286777</td>\n",
       "      <td>0.501632</td>\n",
       "      <td>0.292363</td>\n",
       "      <td>1.000000</td>\n",
       "      <td>-0.014995</td>\n",
       "    </tr>\n",
       "    <tr>\n",
       "      <th>Dystopia</th>\n",
       "      <td>0.481117</td>\n",
       "      <td>0.022620</td>\n",
       "      <td>0.075480</td>\n",
       "      <td>0.055886</td>\n",
       "      <td>0.092923</td>\n",
       "      <td>-0.102683</td>\n",
       "      <td>-0.014995</td>\n",
       "      <td>1.000000</td>\n",
       "    </tr>\n",
       "  </tbody>\n",
       "</table>\n",
       "</div>"
      ],
      "text/plain": [
       "                 Happiness Score   Economy    Family    Health   Freedom  \\\n",
       "Happiness Score         1.000000  0.808678  0.749612  0.777731  0.567948   \n",
       "Economy                 0.808678  1.000000  0.685524  0.838884  0.363843   \n",
       "Family                  0.749612  0.685524  1.000000  0.606674  0.412633   \n",
       "Health                  0.777731  0.838884  0.606674  1.000000  0.340986   \n",
       "Freedom                 0.567948  0.363843  0.412633  0.340986  1.000000   \n",
       "Generosity              0.164123 -0.015614  0.050771  0.068895  0.319387   \n",
       "Corruption              0.438262  0.358750  0.236262  0.286777  0.501632   \n",
       "Dystopia                0.481117  0.022620  0.075480  0.055886  0.092923   \n",
       "\n",
       "                 Generosity  Corruption  Dystopia  \n",
       "Happiness Score    0.164123    0.438262  0.481117  \n",
       "Economy           -0.015614    0.358750  0.022620  \n",
       "Family             0.050771    0.236262  0.075480  \n",
       "Health             0.068895    0.286777  0.055886  \n",
       "Freedom            0.319387    0.501632  0.092923  \n",
       "Generosity         1.000000    0.292363 -0.102683  \n",
       "Corruption         0.292363    1.000000 -0.014995  \n",
       "Dystopia          -0.102683   -0.014995  1.000000  "
      ]
     },
     "execution_count": 25,
     "metadata": {},
     "output_type": "execute_result"
    }
   ],
   "source": [
    "# Computing the pairwise Pearson correlation of all columns except 'Happiness Rank' and 'Job Satisfaction'\n",
    "df.drop(['Happiness Rank', 'Job Satisfaction'], axis = 1).corr(method = 'pearson')"
   ]
  },
  {
   "cell_type": "markdown",
   "metadata": {},
   "source": [
    "The 'Economy' is the indicator with the highest correlation with the 'Hapiness Score' (the coeficient is the closest to 1)."
   ]
  },
  {
   "cell_type": "markdown",
   "metadata": {},
   "source": [
    "#### G. Probabilities"
   ]
  },
  {
   "cell_type": "markdown",
   "metadata": {},
   "source": [
    "**1. Compute the probability that randomly selected country with Happiness score over 6.0 is from Western Europe**"
   ]
  },
  {
   "cell_type": "markdown",
   "metadata": {},
   "source": [
    "AF = Africa  \n",
    "EE = Eastern Europe  \n",
    "WE = Western Europe  \n",
    "LA = Latin America  \n",
    "NA = North America  \n",
    "AP = Asia-Pacific  \n",
    "$\\Omega$ = {AF, EE, WE, LA, NA, AP}  \n",
    "\n",
    "H+ = Countries with Hapiness score over 6.0\n",
    "H- = Countries with Hapiness score below 6.0 or equal to 6.0  \n",
    "$\\Omega$ = {H+,H-}  \n",
    "\n",
    "p = P(WE|H+)  \n",
    "p = P(WE)∩P(H+)/(P(H+)  \n",
    "p = Nb of countries from Western Europe with happiness score > 6 / Nb of countries with happiness score > 6"
   ]
  },
  {
   "cell_type": "code",
   "execution_count": 26,
   "metadata": {},
   "outputs": [
    {
     "name": "stdout",
     "output_type": "stream",
     "text": [
      "38.64 %\n"
     ]
    }
   ],
   "source": [
    "# Probability that randomly selected country with Happiness score over 6.0 is from Western Europe\n",
    "p = df[(df['Region'] == 'Western Europe') & (df['Happiness Score']  > 6.0)]['Happiness Rank'].count() / df[df['Happiness Score']  > 6.0]['Happiness Rank'].count()\n",
    "print(p.round(4)*100,'%')"
   ]
  },
  {
   "cell_type": "markdown",
   "metadata": {},
   "source": [
    "#### H. Matrices"
   ]
  },
  {
   "cell_type": "markdown",
   "metadata": {},
   "source": [
    "**1. Define a matrix whose rows correspond to countries and the columns to the regions**"
   ]
  },
  {
   "cell_type": "code",
   "execution_count": 27,
   "metadata": {},
   "outputs": [
    {
     "data": {
      "text/plain": [
       "array([[1, 0, 0, 0, 0, 0],\n",
       "       [0, 1, 0, 0, 0, 0],\n",
       "       [0, 0, 1, 0, 0, 0],\n",
       "       [0, 0, 0, 1, 0, 0],\n",
       "       [0, 0, 0, 0, 1, 0],\n",
       "       [0, 0, 0, 1, 0, 0],\n",
       "       [0, 0, 1, 0, 0, 0],\n",
       "       [0, 1, 0, 0, 0, 0],\n",
       "       [0, 1, 0, 0, 0, 0],\n",
       "       [0, 0, 1, 0, 0, 0],\n",
       "       [0, 0, 0, 1, 0, 0],\n",
       "       [0, 0, 0, 1, 0, 0],\n",
       "       [0, 0, 0, 1, 0, 0],\n",
       "       [0, 1, 0, 0, 0, 0],\n",
       "       [0, 1, 0, 0, 0, 0],\n",
       "       [0, 0, 0, 1, 0, 0],\n",
       "       [0, 0, 0, 1, 0, 0],\n",
       "       [0, 0, 0, 1, 0, 0],\n",
       "       [0, 0, 0, 1, 0, 0],\n",
       "       [0, 0, 0, 1, 0, 0],\n",
       "       [0, 0, 0, 0, 1, 0],\n",
       "       [1, 0, 0, 0, 0, 0],\n",
       "       [0, 1, 0, 0, 0, 0],\n",
       "       [0, 0, 0, 0, 1, 0],\n",
       "       [0, 0, 0, 1, 0, 0],\n",
       "       [0, 1, 0, 0, 0, 0],\n",
       "       [0, 1, 0, 0, 0, 0],\n",
       "       [0, 0, 1, 0, 0, 0],\n",
       "       [0, 1, 0, 0, 0, 0],\n",
       "       [0, 1, 0, 0, 0, 0],\n",
       "       [1, 0, 0, 0, 0, 0],\n",
       "       [0, 0, 0, 1, 0, 0],\n",
       "       [0, 0, 1, 0, 0, 0],\n",
       "       [0, 0, 0, 1, 0, 0],\n",
       "       [1, 0, 0, 0, 0, 0],\n",
       "       [0, 1, 0, 0, 0, 0],\n",
       "       [0, 0, 0, 1, 0, 0],\n",
       "       [0, 0, 0, 1, 0, 0],\n",
       "       [0, 0, 0, 0, 1, 0],\n",
       "       [0, 0, 0, 1, 0, 0],\n",
       "       [0, 1, 0, 0, 0, 0],\n",
       "       [0, 0, 0, 1, 0, 0],\n",
       "       [1, 0, 0, 0, 0, 0],\n",
       "       [1, 0, 0, 0, 0, 0],\n",
       "       [0, 1, 0, 0, 0, 0],\n",
       "       [0, 0, 1, 0, 0, 0],\n",
       "       [1, 0, 0, 0, 0, 0],\n",
       "       [0, 1, 0, 0, 0, 0],\n",
       "       [0, 0, 0, 0, 1, 0],\n",
       "       [0, 0, 0, 1, 0, 0],\n",
       "       [0, 0, 0, 1, 0, 0],\n",
       "       [0, 1, 0, 0, 0, 0],\n",
       "       [0, 1, 0, 0, 0, 0],\n",
       "       [0, 1, 0, 0, 0, 0],\n",
       "       [0, 0, 0, 0, 1, 0],\n",
       "       [0, 0, 1, 0, 0, 0],\n",
       "       [0, 0, 1, 0, 0, 0],\n",
       "       [0, 1, 0, 0, 0, 0],\n",
       "       [0, 0, 0, 1, 0, 0],\n",
       "       [0, 1, 0, 0, 0, 0],\n",
       "       [0, 1, 0, 0, 0, 0],\n",
       "       [0, 0, 0, 1, 0, 0],\n",
       "       [0, 0, 1, 0, 0, 0],\n",
       "       [0, 0, 0, 0, 1, 0],\n",
       "       [0, 0, 1, 0, 0, 0],\n",
       "       [0, 1, 0, 0, 0, 0],\n",
       "       [0, 0, 0, 1, 0, 0],\n",
       "       [0, 0, 0, 1, 0, 0],\n",
       "       [0, 0, 0, 0, 1, 0],\n",
       "       [0, 0, 0, 0, 0, 1],\n",
       "       [0, 1, 0, 0, 0, 0],\n",
       "       [0, 0, 1, 0, 0, 0],\n",
       "       [0, 0, 0, 1, 0, 0],\n",
       "       [1, 0, 0, 0, 0, 0],\n",
       "       [0, 0, 1, 0, 0, 0],\n",
       "       [0, 0, 1, 0, 0, 0],\n",
       "       [1, 0, 0, 0, 0, 0],\n",
       "       [0, 1, 0, 0, 0, 0],\n",
       "       [0, 0, 1, 0, 0, 0],\n",
       "       [0, 0, 0, 0, 0, 1],\n",
       "       [0, 0, 0, 0, 1, 0],\n",
       "       [0, 1, 0, 0, 0, 0],\n",
       "       [0, 0, 0, 0, 1, 0],\n",
       "       [0, 0, 0, 1, 0, 0],\n",
       "       [1, 0, 0, 0, 0, 0],\n",
       "       [0, 0, 1, 0, 0, 0],\n",
       "       [0, 1, 0, 0, 0, 0],\n",
       "       [0, 1, 0, 0, 0, 0],\n",
       "       [0, 1, 0, 0, 0, 0],\n",
       "       [1, 0, 0, 0, 0, 0],\n",
       "       [0, 0, 0, 0, 1, 0],\n",
       "       [0, 0, 0, 1, 0, 0],\n",
       "       [0, 1, 0, 0, 0, 0],\n",
       "       [0, 0, 0, 0, 1, 0],\n",
       "       [0, 0, 0, 1, 0, 0],\n",
       "       [1, 0, 0, 0, 0, 0],\n",
       "       [0, 0, 0, 1, 0, 0],\n",
       "       [0, 1, 0, 0, 0, 0],\n",
       "       [0, 0, 0, 0, 1, 0],\n",
       "       [1, 0, 0, 0, 0, 0],\n",
       "       [0, 1, 0, 0, 0, 0],\n",
       "       [1, 0, 0, 0, 0, 0],\n",
       "       [0, 0, 1, 0, 0, 0],\n",
       "       [1, 0, 0, 0, 0, 0],\n",
       "       [0, 0, 0, 1, 0, 0],\n",
       "       [0, 1, 0, 0, 0, 0],\n",
       "       [0, 1, 0, 0, 0, 0],\n",
       "       [1, 0, 0, 0, 0, 0],\n",
       "       [0, 0, 0, 0, 1, 0],\n",
       "       [0, 0, 0, 0, 1, 0],\n",
       "       [0, 0, 1, 0, 0, 0],\n",
       "       [0, 0, 1, 0, 0, 0],\n",
       "       [0, 0, 0, 1, 0, 0],\n",
       "       [0, 0, 0, 0, 1, 0],\n",
       "       [0, 1, 0, 0, 0, 0],\n",
       "       [0, 0, 0, 0, 1, 0],\n",
       "       [0, 0, 0, 1, 0, 0],\n",
       "       [0, 1, 0, 0, 0, 0],\n",
       "       [0, 0, 0, 1, 0, 0],\n",
       "       [0, 1, 0, 0, 0, 0],\n",
       "       [0, 0, 1, 0, 0, 0],\n",
       "       [1, 0, 0, 0, 0, 0],\n",
       "       [0, 0, 0, 0, 1, 0],\n",
       "       [1, 0, 0, 0, 0, 0],\n",
       "       [0, 1, 0, 0, 0, 0],\n",
       "       [0, 0, 0, 0, 1, 0],\n",
       "       [0, 0, 0, 0, 1, 0],\n",
       "       [0, 1, 0, 0, 0, 0],\n",
       "       [0, 1, 0, 0, 0, 0],\n",
       "       [0, 0, 0, 1, 0, 0],\n",
       "       [0, 1, 0, 0, 0, 0],\n",
       "       [0, 1, 0, 0, 0, 0],\n",
       "       [0, 0, 0, 1, 0, 0],\n",
       "       [0, 0, 0, 1, 0, 0],\n",
       "       [0, 0, 0, 1, 0, 0],\n",
       "       [0, 0, 1, 0, 0, 0],\n",
       "       [0, 0, 0, 1, 0, 0],\n",
       "       [0, 1, 0, 0, 0, 0],\n",
       "       [0, 0, 0, 1, 0, 0],\n",
       "       [0, 0, 0, 1, 0, 0],\n",
       "       [0, 1, 0, 0, 0, 0],\n",
       "       [0, 0, 1, 0, 0, 0],\n",
       "       [0, 0, 0, 1, 0, 0],\n",
       "       [1, 0, 0, 0, 0, 0],\n",
       "       [0, 0, 0, 0, 1, 0],\n",
       "       [0, 0, 0, 0, 1, 0],\n",
       "       [0, 0, 0, 1, 0, 0],\n",
       "       [0, 1, 0, 0, 0, 0],\n",
       "       [0, 0, 0, 1, 0, 0],\n",
       "       [0, 0, 0, 1, 0, 0],\n",
       "       [0, 0, 1, 0, 0, 0]])"
      ]
     },
     "execution_count": 27,
     "metadata": {},
     "output_type": "execute_result"
    }
   ],
   "source": [
    "# Define the countries/regions serie\n",
    "df.reset_index(inplace = True)\n",
    "df_country_region = df[['Country','Region']]\n",
    "\n",
    "# Calculate the number of countries\n",
    "nb_country = df_country_region['Country'].count()\n",
    "\n",
    "# Calculate the list of regions\n",
    "region = df_country_region['Region'].unique()\n",
    "\n",
    "# Calculate the number of regions\n",
    "nb_region = len(region)\n",
    "\n",
    "# Create a new array (matrix) of shape nb_country*nb_region filled with zeros.\n",
    "a = np.zeros((nb_country,nb_region), dtype = int)\n",
    "\n",
    "# Fill in the matrix with 0/1 values where entry (i,j) is a 1 if the country in row i is \n",
    "# in the region in column j and a 0 otherwise\n",
    "for i in range(nb_country):\n",
    "    for j in range(nb_region):\n",
    "        if df_country_region.iloc[i,1] == region[j]:\n",
    "            a[i][j] = 1\n",
    "a"
   ]
  }
 ],
 "metadata": {
  "kernelspec": {
   "display_name": "Python 3",
   "language": "python",
   "name": "python3"
  },
  "language_info": {
   "codemirror_mode": {
    "name": "ipython",
    "version": 3
   },
   "file_extension": ".py",
   "mimetype": "text/x-python",
   "name": "python",
   "nbconvert_exporter": "python",
   "pygments_lexer": "ipython3",
   "version": "3.8.3"
  }
 },
 "nbformat": 4,
 "nbformat_minor": 4
}
